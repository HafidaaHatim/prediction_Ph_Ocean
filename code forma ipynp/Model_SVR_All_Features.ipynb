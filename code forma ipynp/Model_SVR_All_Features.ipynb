{
 "cells": [
  {
   "cell_type": "code",
   "execution_count": 1,
   "id": "34b528e2",
   "metadata": {},
   "outputs": [],
   "source": [
    "from sklearn.svm import SVR\n",
    "from sklearn.model_selection import train_test_split,GridSearchCV\n",
    "from sklearn.metrics import mean_squared_error\n",
    "import pandas as pd\n",
    "import numpy as np\n",
    "import seaborn as sns\n",
    "import matplotlib.pyplot as plt\n",
    "from sklearn.preprocessing import MinMaxScaler\n",
    "from sklearn.preprocessing import StandardScaler\n",
    "from itertools import combinations"
   ]
  },
  {
   "cell_type": "code",
   "execution_count": 2,
   "id": "86626ef8",
   "metadata": {},
   "outputs": [],
   "source": [
    "df = pd.read_csv('PacificaClean.csv')"
   ]
  },
  {
   "cell_type": "code",
   "execution_count": 3,
   "id": "a12d3751",
   "metadata": {},
   "outputs": [
    {
     "data": {
      "text/html": [
       "<div>\n",
       "<style scoped>\n",
       "    .dataframe tbody tr th:only-of-type {\n",
       "        vertical-align: middle;\n",
       "    }\n",
       "\n",
       "    .dataframe tbody tr th {\n",
       "        vertical-align: top;\n",
       "    }\n",
       "\n",
       "    .dataframe thead th {\n",
       "        text-align: right;\n",
       "    }\n",
       "</style>\n",
       "<table border=\"1\" class=\"dataframe\">\n",
       "  <thead>\n",
       "    <tr style=\"text-align: right;\">\n",
       "      <th></th>\n",
       "      <th>CTDTMP [ITS-90]</th>\n",
       "      <th>OXYGEN [UMOL/KG]</th>\n",
       "      <th>TCARBN [UMOL/KG]</th>\n",
       "      <th>PHSPHT [UMOL/KG]</th>\n",
       "      <th>SILCAT [UMOL/KG]</th>\n",
       "      <th>NITRAT [UMOL/KG]</th>\n",
       "      <th>PH</th>\n",
       "    </tr>\n",
       "  </thead>\n",
       "  <tbody>\n",
       "    <tr>\n",
       "      <th>0</th>\n",
       "      <td>4.547</td>\n",
       "      <td>119.10</td>\n",
       "      <td>2286.68</td>\n",
       "      <td>2.824</td>\n",
       "      <td>70.516</td>\n",
       "      <td>37.126</td>\n",
       "      <td>7.552423</td>\n",
       "    </tr>\n",
       "    <tr>\n",
       "      <th>1</th>\n",
       "      <td>4.533</td>\n",
       "      <td>100.64</td>\n",
       "      <td>2290.58</td>\n",
       "      <td>2.744</td>\n",
       "      <td>71.046</td>\n",
       "      <td>38.908</td>\n",
       "      <td>7.518387</td>\n",
       "    </tr>\n",
       "    <tr>\n",
       "      <th>2</th>\n",
       "      <td>4.536</td>\n",
       "      <td>130.80</td>\n",
       "      <td>2282.86</td>\n",
       "      <td>2.532</td>\n",
       "      <td>62.012</td>\n",
       "      <td>35.762</td>\n",
       "      <td>7.514944</td>\n",
       "    </tr>\n",
       "    <tr>\n",
       "      <th>3</th>\n",
       "      <td>4.536</td>\n",
       "      <td>130.80</td>\n",
       "      <td>2282.86</td>\n",
       "      <td>2.532</td>\n",
       "      <td>62.012</td>\n",
       "      <td>35.762</td>\n",
       "      <td>7.514944</td>\n",
       "    </tr>\n",
       "    <tr>\n",
       "      <th>4</th>\n",
       "      <td>4.536</td>\n",
       "      <td>130.80</td>\n",
       "      <td>2282.86</td>\n",
       "      <td>2.532</td>\n",
       "      <td>62.012</td>\n",
       "      <td>35.762</td>\n",
       "      <td>7.514944</td>\n",
       "    </tr>\n",
       "    <tr>\n",
       "      <th>...</th>\n",
       "      <td>...</td>\n",
       "      <td>...</td>\n",
       "      <td>...</td>\n",
       "      <td>...</td>\n",
       "      <td>...</td>\n",
       "      <td>...</td>\n",
       "      <td>...</td>\n",
       "    </tr>\n",
       "    <tr>\n",
       "      <th>277318</th>\n",
       "      <td>3.494</td>\n",
       "      <td>67.60</td>\n",
       "      <td>2290.04</td>\n",
       "      <td>2.880</td>\n",
       "      <td>120.580</td>\n",
       "      <td>41.750</td>\n",
       "      <td>7.565329</td>\n",
       "    </tr>\n",
       "    <tr>\n",
       "      <th>277319</th>\n",
       "      <td>2.898</td>\n",
       "      <td>82.60</td>\n",
       "      <td>2325.14</td>\n",
       "      <td>2.780</td>\n",
       "      <td>129.890</td>\n",
       "      <td>40.660</td>\n",
       "      <td>7.508111</td>\n",
       "    </tr>\n",
       "    <tr>\n",
       "      <th>277320</th>\n",
       "      <td>2.621</td>\n",
       "      <td>99.60</td>\n",
       "      <td>2342.30</td>\n",
       "      <td>2.770</td>\n",
       "      <td>133.730</td>\n",
       "      <td>40.110</td>\n",
       "      <td>7.487689</td>\n",
       "    </tr>\n",
       "    <tr>\n",
       "      <th>277321</th>\n",
       "      <td>2.339</td>\n",
       "      <td>115.70</td>\n",
       "      <td>2347.40</td>\n",
       "      <td>2.710</td>\n",
       "      <td>136.900</td>\n",
       "      <td>39.560</td>\n",
       "      <td>7.536210</td>\n",
       "    </tr>\n",
       "    <tr>\n",
       "      <th>277322</th>\n",
       "      <td>2.147</td>\n",
       "      <td>124.90</td>\n",
       "      <td>2331.46</td>\n",
       "      <td>2.650</td>\n",
       "      <td>138.430</td>\n",
       "      <td>38.750</td>\n",
       "      <td>7.576535</td>\n",
       "    </tr>\n",
       "  </tbody>\n",
       "</table>\n",
       "<p>277323 rows × 7 columns</p>\n",
       "</div>"
      ],
      "text/plain": [
       "        CTDTMP [ITS-90]  OXYGEN [UMOL/KG]  TCARBN [UMOL/KG]  PHSPHT [UMOL/KG]  \\\n",
       "0                 4.547            119.10           2286.68             2.824   \n",
       "1                 4.533            100.64           2290.58             2.744   \n",
       "2                 4.536            130.80           2282.86             2.532   \n",
       "3                 4.536            130.80           2282.86             2.532   \n",
       "4                 4.536            130.80           2282.86             2.532   \n",
       "...                 ...               ...               ...               ...   \n",
       "277318            3.494             67.60           2290.04             2.880   \n",
       "277319            2.898             82.60           2325.14             2.780   \n",
       "277320            2.621             99.60           2342.30             2.770   \n",
       "277321            2.339            115.70           2347.40             2.710   \n",
       "277322            2.147            124.90           2331.46             2.650   \n",
       "\n",
       "        SILCAT [UMOL/KG]  NITRAT [UMOL/KG]        PH  \n",
       "0                 70.516            37.126  7.552423  \n",
       "1                 71.046            38.908  7.518387  \n",
       "2                 62.012            35.762  7.514944  \n",
       "3                 62.012            35.762  7.514944  \n",
       "4                 62.012            35.762  7.514944  \n",
       "...                  ...               ...       ...  \n",
       "277318           120.580            41.750  7.565329  \n",
       "277319           129.890            40.660  7.508111  \n",
       "277320           133.730            40.110  7.487689  \n",
       "277321           136.900            39.560  7.536210  \n",
       "277322           138.430            38.750  7.576535  \n",
       "\n",
       "[277323 rows x 7 columns]"
      ]
     },
     "execution_count": 3,
     "metadata": {},
     "output_type": "execute_result"
    }
   ],
   "source": [
    "df"
   ]
  },
  {
   "cell_type": "code",
   "execution_count": 4,
   "id": "7987a373",
   "metadata": {},
   "outputs": [],
   "source": [
    "nouveaux_noms = {\n",
    "    'CTDTMP [ITS-90]': 'temp',\n",
    "    'OXYGEN [UMOL/KG]': 'oxygen',\n",
    "    'TCARBN [UMOL/KG]': 'tcarbn',\n",
    "    'PHSPHT [UMOL/KG]': 'phspht',\n",
    "    'SILCAT [UMOL/KG]': 'silcat',\n",
    "    'NITRAT [UMOL/KG]': 'nitrat',\n",
    "}\n",
    "# Renommer les colonnes dans le DataFrame\n",
    "df.rename(columns=nouveaux_noms, inplace=True)"
   ]
  },
  {
   "cell_type": "code",
   "execution_count": 5,
   "id": "ccb57ef6",
   "metadata": {},
   "outputs": [],
   "source": [
    "X=df.drop('PH', axis=1)\n",
    "Y=df['PH']"
   ]
  },
  {
   "cell_type": "code",
   "execution_count": 5,
   "id": "28565a56",
   "metadata": {},
   "outputs": [],
   "source": [
    "X_train, X_test, y_train, y_test = train_test_split(X,Y, test_size=0.2, random_state=42)"
   ]
  },
  {
   "cell_type": "code",
   "execution_count": 6,
   "id": "00fd3ddb",
   "metadata": {},
   "outputs": [],
   "source": [
    "pipeline=Pipeline([\n",
    "     ('scaler',StandardScaler()),\n",
    "     ('SVR', SVR())\n",
    "   \n",
    "])"
   ]
  },
  {
   "cell_type": "code",
   "execution_count": 8,
   "id": "f5e28f99",
   "metadata": {},
   "outputs": [],
   "source": [
    "parameters = {'C': [1.1, 5.4],\n",
    "              'kernel': ['linear', 'rbf'],\n",
    "              'gamma': [0.7001, 0.001,1,5],\n",
    "              'epsilon':[0.01, 0.1, 1.0]}"
   ]
  },
  {
   "cell_type": "code",
   "execution_count": null,
   "id": "0037b0fb",
   "metadata": {},
   "outputs": [],
   "source": [
    "grid_search = GridSearchCV(pipeline, parameters,cv=5)\n",
    "grid_search.fit(X_train,y_train)"
   ]
  },
  {
   "cell_type": "code",
   "execution_count": null,
   "id": "31b82e61",
   "metadata": {},
   "outputs": [],
   "source": [
    "best_params = grid_search.best_params_"
   ]
  },
  {
   "cell_type": "code",
   "execution_count": null,
   "id": "a36288b6",
   "metadata": {},
   "outputs": [],
   "source": [
    "print(\"Meilleurs paramètres:\", best_params)"
   ]
  },
  {
   "cell_type": "code",
   "execution_count": null,
   "id": "f486b4ec",
   "metadata": {},
   "outputs": [],
   "source": [
    "best_model = grid_search.best_estimator_\n",
    "best_model.fit(X_train,y_train)"
   ]
  },
  {
   "cell_type": "code",
   "execution_count": null,
   "id": "4ff70314",
   "metadata": {},
   "outputs": [],
   "source": [
    "y_pred = best_model.predict(X_test)"
   ]
  },
  {
   "cell_type": "code",
   "execution_count": null,
   "id": "70e3545c",
   "metadata": {},
   "outputs": [],
   "source": [
    "print(\"Meilleur score de validation croisée :\", grid_search.best_score_)"
   ]
  },
  {
   "cell_type": "code",
   "execution_count": null,
   "id": "44c7bb52",
   "metadata": {},
   "outputs": [],
   "source": [
    "rmse =mse(y_test,y_pred,squared=False)"
   ]
  },
  {
   "cell_type": "code",
   "execution_count": null,
   "id": "2d9917b8",
   "metadata": {},
   "outputs": [],
   "source": [
    "print(\"Rmse =\",rmse)"
   ]
  },
  {
   "cell_type": "code",
   "execution_count": null,
   "id": "f755d57d",
   "metadata": {},
   "outputs": [],
   "source": [
    "# Save the model to a file\n",
    "with open(\"all_features_SVR.pkl\", \"wb\") as file:\n",
    "       dump(best_model, file)\n",
    "   "
   ]
  },
  {
   "cell_type": "code",
   "execution_count": null,
   "id": "8a5f50ba",
   "metadata": {},
   "outputs": [],
   "source": [
    "temp=['CTDTMP [ITS-90]']\n",
    "oxyg=['OXYGEN [UMOL/KG]']\n",
    "tCarb=['TCARBN [UMOL/KG]']\n",
    "silicate=['SILCAT [UMOL/KG]']\n",
    "phosphate=['PHSPHT [UMOL/KG]']\n",
    "nitrate=['NITRAT [UMOL/KG]']\n",
    "#Création des combinaisons de cinq variables\n",
    "comb5Var = combinations([temp, oxyg,tCarb, silicate,phosphate,nitrate],5)\n",
    "#Création des combinaisons de quatre variables\n",
    "comb4Var = combinations([temp, oxyg,tCarb, silicate,phosphate,nitrate],4)\n",
    "#Création des combinaisons de trois variables\n",
    "comb3Var = combinations([temp, oxyg,tCarb, silicate,phosphate,nitrate],3)\n",
    "#Création des combinaisons de deux variables\n",
    "comb2Var = combinations([temp, oxyg,tCarb, silicate,phosphate,nitrate],2)\n",
    "#Création des combinaisons de un variable\n",
    "comb1Var = combinations([temp, oxyg,tCarb, silicate,phosphate,nitrate],1)"
   ]
  },
  {
   "cell_type": "code",
   "execution_count": null,
   "id": "e95aecd0",
   "metadata": {},
   "outputs": [],
   "source": [
    "comb5v=list(comb5Var)\n",
    "comb4v=list(comb4Var)\n",
    "comb3v=list(comb3Var)\n",
    "comb2v=list(comb2Var)\n",
    "comb1v=list(comb1Var)"
   ]
  },
  {
   "cell_type": "markdown",
   "id": "dd08e6af",
   "metadata": {},
   "source": [
    "### Entrainement sur cinq variables"
   ]
  },
  {
   "cell_type": "code",
   "execution_count": null,
   "id": "cc7638e0",
   "metadata": {},
   "outputs": [],
   "source": [
    "R2_5v={}\n",
    "Rmse_5v={}\n",
    "for a in range(0,len(comb5v)):\n",
    "    xtr=pd.DataFrame()\n",
    "    xts=pd.DataFrame()\n",
    "    for i in comb5v[a] :\n",
    "        for x in i:\n",
    "            xtr.insert(0,x,X_train[x])\n",
    "            xts.insert(0,x,X_test[x])\n",
    "    grids = GridSearchCV(pipeline,parameters,cv=5,n_jobs=-1)\n",
    "\n",
    "    grids.fit(xtr,y_train)\n",
    "    modelrfc=grids.best_estimator_\n",
    "    ypred=modelrfc.predict(xts)\n",
    "    scoreR2=r2_score(y_test,ypred)\n",
    "    scoreRmse = mse(y_test,ypred,squared=False)\n",
    "    var=''\n",
    "    for col in xtr.columns:\n",
    "        var+=col+'_'\n",
    "    R2_5v[var]=scoreR2\n",
    "    Rmse_5v[var]=scoreRmse\n",
    "    print(\"R2\",scoreR2)\n",
    "    print(\"Rmse\",scoreRmse)\n",
    "    dump(modelrfc,open('SVR_5v_'+var,\"wb\"))\n",
    "    print(\"------\")"
   ]
  },
  {
   "cell_type": "code",
   "execution_count": null,
   "id": "923cad08",
   "metadata": {},
   "outputs": [],
   "source": [
    "R2_5v"
   ]
  },
  {
   "cell_type": "code",
   "execution_count": null,
   "id": "a729aede",
   "metadata": {},
   "outputs": [],
   "source": [
    " Rmse_5v"
   ]
  },
  {
   "cell_type": "code",
   "execution_count": null,
   "id": "a8c7d713",
   "metadata": {},
   "outputs": [],
   "source": [
    "Variables = list(R2_5v.keys())\n",
    "ScoresR2 = list(R2_5v.values())\n",
    "ScoreRmse=list(Rmse_5v.values())\n",
    "tmp = max(ScoresR2)\n",
    "index = ScoresR2.index(tmp)"
   ]
  },
  {
   "cell_type": "code",
   "execution_count": null,
   "id": "ad068261",
   "metadata": {},
   "outputs": [],
   "source": [
    "print(\"La meilleur combinaison pour quatre variables est:\",Variables[index])\n",
    "print(\"R2\",ScoresR2[index])\n",
    "print(\"Rmse\",ScoreRmse[index])"
   ]
  },
  {
   "cell_type": "code",
   "execution_count": null,
   "id": "06ddfd29",
   "metadata": {},
   "outputs": [],
   "source": [
    "plt.figure(figsize=(10, 6))\n",
    "plt.bar(Variables, ScoresR2)\n",
    "plt.ylabel('R2 Score')\n",
    "plt.title(' R2 pour différentes combinaisons')\n",
    "plt.xticks(rotation=20, ha='right')\n",
    "plt.tight_layout()\n",
    "for i, score in enumerate(ScoresR2):\n",
    "    plt.text(i, score, f'R2 = {score:.4f}', ha='center', va='bottom')\n",
    "\n",
    "plt.show()"
   ]
  },
  {
   "cell_type": "code",
   "execution_count": null,
   "id": "9405f809",
   "metadata": {},
   "outputs": [],
   "source": [
    "plt.figure(figsize=(10, 6))\n",
    "plt.bar(Variables, ScoreRmse)\n",
    "plt.ylabel('RMSE Score')\n",
    "plt.title('RMSE pour différentes combinaisons')\n",
    "plt.xticks(rotation=20, ha='right')\n",
    "plt.tight_layout()\n",
    "for i, score in enumerate(ScoreRmse):\n",
    "    plt.text(i, score, f'Rmse = {score:.4f}', ha='center', va='bottom')\n",
    "plt.show()"
   ]
  },
  {
   "cell_type": "markdown",
   "id": "71341cc1",
   "metadata": {},
   "source": [
    "### Entrainement sur quatre variables"
   ]
  },
  {
   "cell_type": "code",
   "execution_count": null,
   "id": "16df0724",
   "metadata": {},
   "outputs": [],
   "source": [
    "R2_4v={}\n",
    "Rmse_4v={}\n",
    "for a in range(0,len(comb4v)):\n",
    "    xtr=pd.DataFrame()\n",
    "    xts=pd.DataFrame()\n",
    "    for i in comb4v[a] :\n",
    "        for x in i:\n",
    "            xtr.insert(0,x,X_train[x])\n",
    "            xts.insert(0,x,X_test[x])\n",
    "            \n",
    "    \n",
    "\n",
    "    grids = GridSearchCV(pipeline,parameters,cv=5,n_jobs=-1)\n",
    "\n",
    "    grids.fit(xtr,y_train)\n",
    "    modelrfc=grids.best_estimator_\n",
    "    ypred=modelrfc.predict(xts)\n",
    "    scoreR2=r2_score(y_test,ypred)\n",
    "    scoreRmse = mse(y_test,ypred,squared=False)\n",
    "    var=''\n",
    "    for col in xtr.columns:\n",
    "        var+=col+'_'\n",
    "    R2_4v[var]=scoreR2\n",
    "    Rmse_4v[var]=scoreRmse\n",
    "    print(\"R2\",scoreR2)\n",
    "    print(\"Rmse\",scoreRmse)\n",
    "    dump(modelrfc,open('SVR_4v_'+var,\"wb\"))\n",
    "    print(\"------\")"
   ]
  },
  {
   "cell_type": "code",
   "execution_count": null,
   "id": "9f880af8",
   "metadata": {},
   "outputs": [],
   "source": [
    "R2_4v"
   ]
  },
  {
   "cell_type": "code",
   "execution_count": null,
   "id": "90a60f2f",
   "metadata": {},
   "outputs": [],
   "source": [
    "Rmse_4v"
   ]
  },
  {
   "cell_type": "code",
   "execution_count": null,
   "id": "88b59b9e",
   "metadata": {},
   "outputs": [],
   "source": [
    "Variables = list(R2_5v.keys())\n",
    "ScoresR2 = list(R2_5v.values())\n",
    "ScoreRmse=list(Rmse_5v.values())\n",
    "tmp = max(ScoresR2)\n",
    "index = ScoresR2.index(tmp)"
   ]
  },
  {
   "cell_type": "code",
   "execution_count": null,
   "id": "ef0f33f0",
   "metadata": {},
   "outputs": [],
   "source": [
    "print(\"La meilleur combinaison pour quatre variables est:\",Variables[index])\n",
    "print(\"R2\",ScoresR2[index])\n",
    "print(\"Rmse\",ScoreRmse[index])"
   ]
  },
  {
   "cell_type": "code",
   "execution_count": null,
   "id": "2b177e46",
   "metadata": {},
   "outputs": [],
   "source": [
    "plt.figure(figsize=(10, 6))\n",
    "plt.bar(Variables, ScoresR2)\n",
    "plt.ylabel('R2 Score')\n",
    "plt.title(' R2 pour différentes combinaisons')\n",
    "plt.xticks(rotation=20, ha='right')\n",
    "plt.tight_layout()\n",
    "for i, score in enumerate(ScoresR2):\n",
    "    plt.text(i, score, f'R2 = {score:.4f}', ha='center', va='bottom')\n",
    "\n",
    "plt.show()"
   ]
  },
  {
   "cell_type": "code",
   "execution_count": null,
   "id": "402fdc60",
   "metadata": {},
   "outputs": [],
   "source": [
    "plt.figure(figsize=(10, 6))\n",
    "plt.bar(Variables, ScoreRmse)\n",
    "plt.ylabel('RMSE Score')\n",
    "plt.title('RMSE pour différentes combinaisons')\n",
    "plt.xticks(rotation=20, ha='right')\n",
    "plt.tight_layout()\n",
    "for i, score in enumerate(ScoreRmse):\n",
    "    plt.text(i, score, f'Rmse = {score:.4f}', ha='center', va='bottom')\n",
    "plt.show()"
   ]
  },
  {
   "cell_type": "markdown",
   "id": "7836b726",
   "metadata": {},
   "source": [
    "### Entrainement sur trois variables "
   ]
  },
  {
   "cell_type": "code",
   "execution_count": null,
   "id": "7014dacd",
   "metadata": {},
   "outputs": [],
   "source": [
    "R2_3v={}\n",
    "Rmse_3v={}\n",
    "for a in range(0,len(comb3v)):\n",
    "    xtr=pd.DataFrame()\n",
    "    xts=pd.DataFrame()\n",
    "    for i in comb3v[a] :\n",
    "        for x in i:\n",
    "            xtr.insert(0,x,X_train[x])\n",
    "            xts.insert(0,x,X_test[x])\n",
    "            \n",
    "    \n",
    "\n",
    "    grids = GridSearchCV(pipeline,parameters,cv=5,n_jobs=-1)\n",
    "\n",
    "    grids.fit(xtr,y_train)\n",
    "    modelrfc=grids.best_estimator_\n",
    "    ypred=modelrfc.predict(xts)\n",
    "    scoreR2=r2_score(y_test,ypred)\n",
    "    scoreRmse = mse(y_test,ypred,squared=False)\n",
    "    var=''\n",
    "    for col in xtr.columns:\n",
    "        var+=col+'_'\n",
    "    R2_3v[var]=scoreR2\n",
    "    Rmse_3v[var]=scoreRmse\n",
    "    print(\"R2\",scoreR2)\n",
    "    print(\"Rmse\",scoreRmse)\n",
    "    dump(modelrfc,open('SVR_3v_'+var,\"wb\"))\n",
    "    print(\"------\")"
   ]
  },
  {
   "cell_type": "code",
   "execution_count": null,
   "id": "2e5372d1",
   "metadata": {},
   "outputs": [],
   "source": [
    "R2_3v"
   ]
  },
  {
   "cell_type": "code",
   "execution_count": null,
   "id": "0a0d4f1a",
   "metadata": {},
   "outputs": [],
   "source": [
    "Rmse_3v"
   ]
  },
  {
   "cell_type": "code",
   "execution_count": null,
   "id": "cd8de647",
   "metadata": {},
   "outputs": [],
   "source": [
    "Variables = list(R2_5v.keys())\n",
    "ScoresR2 = list(R2_5v.values())\n",
    "ScoreRmse=list(Rmse_5v.values())\n",
    "tmp = max(ScoresR2)\n",
    "index = ScoresR2.index(tmp)"
   ]
  },
  {
   "cell_type": "code",
   "execution_count": null,
   "id": "17163dc5",
   "metadata": {},
   "outputs": [],
   "source": [
    "print(\"La meilleur combinaison pour quatre variables est:\",Variables[index])\n",
    "print(\"R2\",ScoresR2[index])\n",
    "print(\"Rmse\",ScoreRmse[index])"
   ]
  },
  {
   "cell_type": "code",
   "execution_count": null,
   "id": "0109440f",
   "metadata": {},
   "outputs": [],
   "source": [
    "plt.figure(figsize=(10, 6))\n",
    "plt.bar(Variables, ScoresR2)\n",
    "plt.ylabel('R2 Score')\n",
    "plt.title(' R2 pour différentes combinaisons')\n",
    "plt.xticks(rotation=20, ha='right')\n",
    "plt.tight_layout()\n",
    "for i, score in enumerate(ScoresR2):\n",
    "    plt.text(i, score, f'R2 = {score:.4f}', ha='center', va='bottom')\n",
    "\n",
    "plt.show()"
   ]
  },
  {
   "cell_type": "code",
   "execution_count": null,
   "id": "2f77c2b9",
   "metadata": {},
   "outputs": [],
   "source": [
    "plt.figure(figsize=(10, 6))\n",
    "plt.bar(Variables, ScoreRmse)\n",
    "plt.ylabel('RMSE Score')\n",
    "plt.title('RMSE pour différentes combinaisons')\n",
    "plt.xticks(rotation=20, ha='right')\n",
    "plt.tight_layout()\n",
    "for i, score in enumerate(ScoreRmse):\n",
    "    plt.text(i, score, f'Rmse = {score:.4f}', ha='center', va='bottom')\n",
    "plt.show()"
   ]
  },
  {
   "cell_type": "markdown",
   "id": "f2b64a20",
   "metadata": {},
   "source": [
    "### Entrainement sur deux variables "
   ]
  },
  {
   "cell_type": "code",
   "execution_count": null,
   "id": "5cb15faa",
   "metadata": {},
   "outputs": [],
   "source": [
    "R2_2v={}\n",
    "Rmse_2v={}\n",
    "for a in range(0,len(comb2v)):\n",
    "    xtr=pd.DataFrame()\n",
    "    xts=pd.DataFrame()\n",
    "    for i in comb2v[a] :\n",
    "        for x in i:\n",
    "            xtr.insert(0,x,X_train[x])\n",
    "            xts.insert(0,x,X_test[x])\n",
    "            \n",
    "    \n",
    "\n",
    "    grids = GridSearchCV(pipeline,parameters,cv=5,n_jobs=-1)\n",
    "\n",
    "    grids.fit(xtr,y_train)\n",
    "    modelrfc=grids.best_estimator_\n",
    "    ypred=modelrfc.predict(xts)\n",
    "    scoreR2=r2_score(y_test,ypred)\n",
    "    scoreRmse = mse(y_test,ypred,squared=False)\n",
    "    var=''\n",
    "    for col in xtr.columns:\n",
    "        var+=col+'_'\n",
    "    R2_2v[var]=scoreR2\n",
    "    Rmse_2v[var]=scoreRmse\n",
    "    print(\"R2\",scoreR2)\n",
    "    print(\"Rmse\",scoreRmse)\n",
    "    dump(modelrfc,open('SVR_2v_'+var,\"wb\"))\n",
    "    print(\"------\")"
   ]
  },
  {
   "cell_type": "code",
   "execution_count": null,
   "id": "ae24c065",
   "metadata": {},
   "outputs": [],
   "source": [
    "R2_2v"
   ]
  },
  {
   "cell_type": "code",
   "execution_count": null,
   "id": "02bc838a",
   "metadata": {},
   "outputs": [],
   "source": [
    "Rmse_2v"
   ]
  },
  {
   "cell_type": "code",
   "execution_count": null,
   "id": "0a93e461",
   "metadata": {},
   "outputs": [],
   "source": [
    "Variables = list(R2_5v.keys())\n",
    "ScoresR2 = list(R2_5v.values())\n",
    "ScoreRmse=list(Rmse_5v.values())\n",
    "tmp = max(ScoresR2)\n",
    "index = ScoresR2.index(tmp)"
   ]
  },
  {
   "cell_type": "code",
   "execution_count": null,
   "id": "78e31f1c",
   "metadata": {},
   "outputs": [],
   "source": [
    "print(\"La meilleur combinaison pour quatre variables est:\",Variables[index])\n",
    "print(\"R2\",ScoresR2[index])\n",
    "print(\"Rmse\",ScoreRmse[index])"
   ]
  },
  {
   "cell_type": "code",
   "execution_count": null,
   "id": "3f0822db",
   "metadata": {},
   "outputs": [],
   "source": [
    "plt.figure(figsize=(10, 6))\n",
    "plt.bar(Variables, ScoresR2)\n",
    "plt.ylabel('R2 Score')\n",
    "plt.title(' R2 pour différentes combinaisons')\n",
    "plt.xticks(rotation=20, ha='right')\n",
    "plt.tight_layout()\n",
    "for i, score in enumerate(ScoresR2):\n",
    "    plt.text(i, score, f'R2 = {score:.4f}', ha='center', va='bottom')\n",
    "\n",
    "plt.show()"
   ]
  },
  {
   "cell_type": "code",
   "execution_count": null,
   "id": "ddac2820",
   "metadata": {},
   "outputs": [],
   "source": [
    "plt.figure(figsize=(10, 6))\n",
    "plt.bar(Variables, ScoreRmse)\n",
    "plt.ylabel('RMSE Score')\n",
    "plt.title('RMSE pour différentes combinaisons')\n",
    "plt.xticks(rotation=20, ha='right')\n",
    "plt.tight_layout()\n",
    "for i, score in enumerate(ScoreRmse):\n",
    "    plt.text(i, score, f'Rmse = {score:.4f}', ha='center', va='bottom')\n",
    "plt.show()"
   ]
  },
  {
   "cell_type": "markdown",
   "id": "2e8cbdbb",
   "metadata": {},
   "source": [
    "### Entrainement sur un variable"
   ]
  },
  {
   "cell_type": "code",
   "execution_count": null,
   "id": "d17a94f1",
   "metadata": {},
   "outputs": [],
   "source": [
    "R2_1v={}\n",
    "Rmse_1v={}\n",
    "for a in range(0,len(comb1v)):\n",
    "    xtr=pd.DataFrame()\n",
    "    xts=pd.DataFrame()\n",
    "    for i in comb1v[a] :\n",
    "        for x in i:\n",
    "            xtr.insert(0,x,X_train[x])\n",
    "            xts.insert(0,x,X_test[x])\n",
    "            \n",
    "    \n",
    "\n",
    "    grids = GridSearchCV(pipeline,parameters,cv=5,n_jobs=-1)\n",
    "\n",
    "    grids.fit(xtr,y_train)\n",
    "    modelrfc=grids.best_estimator_\n",
    "    ypred=modelrfc.predict(xts)\n",
    "    scoreR2=r2_score(y_test,ypred)\n",
    "    scoreRmse = mse(y_test,ypred,squared=False)\n",
    "    var=''\n",
    "    for col in xtr.columns:\n",
    "        var+=col+'_'\n",
    "    R2_1v[var]=scoreR2\n",
    "    Rmse_1v[var]=scoreRmse\n",
    "    print(\"R2\",scoreR2)\n",
    "    print(\"Rmse\",scoreRmse)\n",
    "    dump(modelrfc,open('SVR_1v_'+var,\"wb\"))\n",
    "    print(\"------\")"
   ]
  },
  {
   "cell_type": "code",
   "execution_count": null,
   "id": "233d89a2",
   "metadata": {},
   "outputs": [],
   "source": [
    "R2_1v"
   ]
  },
  {
   "cell_type": "code",
   "execution_count": null,
   "id": "e0f449e6",
   "metadata": {},
   "outputs": [],
   "source": [
    "Rmse_1v"
   ]
  },
  {
   "cell_type": "code",
   "execution_count": null,
   "id": "ee4b7648",
   "metadata": {},
   "outputs": [],
   "source": [
    "Variables = list(R2_5v.keys())\n",
    "ScoresR2 = list(R2_5v.values())\n",
    "ScoreRmse=list(Rmse_5v.values())\n",
    "tmp = max(ScoresR2)\n",
    "index = ScoresR2.index(tmp)"
   ]
  },
  {
   "cell_type": "code",
   "execution_count": null,
   "id": "3520e0c8",
   "metadata": {},
   "outputs": [],
   "source": [
    "print(\"La meilleur combinaison pour quatre variables est:\",Variables[index])\n",
    "print(\"R2\",ScoresR2[index])\n",
    "print(\"Rmse\",ScoreRmse[index])"
   ]
  },
  {
   "cell_type": "code",
   "execution_count": null,
   "id": "5ca14346",
   "metadata": {},
   "outputs": [],
   "source": [
    "plt.figure(figsize=(10, 6))\n",
    "plt.bar(Variables, ScoresR2)\n",
    "plt.ylabel('R2 Score')\n",
    "plt.title(' R2 pour différentes combinaisons')\n",
    "plt.xticks(rotation=20, ha='right')\n",
    "plt.tight_layout()\n",
    "for i, score in enumerate(ScoresR2):\n",
    "    plt.text(i, score, f'R2 = {score:.4f}', ha='center', va='bottom')\n",
    "\n",
    "plt.show()"
   ]
  },
  {
   "cell_type": "code",
   "execution_count": null,
   "id": "7d67f868",
   "metadata": {},
   "outputs": [],
   "source": [
    "plt.figure(figsize=(10, 6))\n",
    "plt.bar(Variables, ScoreRmse)\n",
    "plt.ylabel('RMSE Score')\n",
    "plt.title('RMSE pour différentes combinaisons')\n",
    "plt.xticks(rotation=20, ha='right')\n",
    "plt.tight_layout()\n",
    "for i, score in enumerate(ScoreRmse):\n",
    "    plt.text(i, score, f'Rmse = {score:.4f}', ha='center', va='bottom')\n",
    "plt.show()"
   ]
  }
 ],
 "metadata": {
  "kernelspec": {
   "display_name": "Python 3 (ipykernel)",
   "language": "python",
   "name": "python3"
  },
  "language_info": {
   "codemirror_mode": {
    "name": "ipython",
    "version": 3
   },
   "file_extension": ".py",
   "mimetype": "text/x-python",
   "name": "python",
   "nbconvert_exporter": "python",
   "pygments_lexer": "ipython3",
   "version": "3.9.13"
  }
 },
 "nbformat": 4,
 "nbformat_minor": 5
}
