{
 "cells": [
  {
   "cell_type": "code",
   "execution_count": 1,
   "id": "dc420f8a",
   "metadata": {},
   "outputs": [],
   "source": [
    "from sklearn.svm import SVR\n",
    "from sklearn.model_selection import train_test_split\n",
    "from sklearn.metrics import mean_squared_error\n",
    "import pandas as pd\n",
    "import numpy as np\n",
    "import seaborn as sns\n",
    "import matplotlib.pyplot as plt\n",
    "from sklearn.preprocessing import MinMaxScaler"
   ]
  },
  {
   "cell_type": "code",
   "execution_count": 2,
   "id": "68b10a4f",
   "metadata": {},
   "outputs": [],
   "source": [
    "df = pd.read_csv('PacificaClean.csv')"
   ]
  },
  {
   "cell_type": "code",
   "execution_count": 3,
   "id": "f54b25ab",
   "metadata": {},
   "outputs": [
    {
     "data": {
      "text/html": [
       "<div>\n",
       "<style scoped>\n",
       "    .dataframe tbody tr th:only-of-type {\n",
       "        vertical-align: middle;\n",
       "    }\n",
       "\n",
       "    .dataframe tbody tr th {\n",
       "        vertical-align: top;\n",
       "    }\n",
       "\n",
       "    .dataframe thead th {\n",
       "        text-align: right;\n",
       "    }\n",
       "</style>\n",
       "<table border=\"1\" class=\"dataframe\">\n",
       "  <thead>\n",
       "    <tr style=\"text-align: right;\">\n",
       "      <th></th>\n",
       "      <th>CTDTMP [ITS-90]</th>\n",
       "      <th>OXYGEN [UMOL/KG]</th>\n",
       "      <th>TCARBN [UMOL/KG]</th>\n",
       "      <th>PHSPHT [UMOL/KG]</th>\n",
       "      <th>SILCAT [UMOL/KG]</th>\n",
       "      <th>NITRAT [UMOL/KG]</th>\n",
       "      <th>PH</th>\n",
       "    </tr>\n",
       "  </thead>\n",
       "  <tbody>\n",
       "    <tr>\n",
       "      <th>0</th>\n",
       "      <td>4.547</td>\n",
       "      <td>119.10</td>\n",
       "      <td>2286.68</td>\n",
       "      <td>2.824</td>\n",
       "      <td>70.516</td>\n",
       "      <td>37.126</td>\n",
       "      <td>7.552423</td>\n",
       "    </tr>\n",
       "    <tr>\n",
       "      <th>1</th>\n",
       "      <td>4.533</td>\n",
       "      <td>100.64</td>\n",
       "      <td>2290.58</td>\n",
       "      <td>2.744</td>\n",
       "      <td>71.046</td>\n",
       "      <td>38.908</td>\n",
       "      <td>7.518387</td>\n",
       "    </tr>\n",
       "    <tr>\n",
       "      <th>2</th>\n",
       "      <td>4.536</td>\n",
       "      <td>130.80</td>\n",
       "      <td>2282.86</td>\n",
       "      <td>2.532</td>\n",
       "      <td>62.012</td>\n",
       "      <td>35.762</td>\n",
       "      <td>7.514944</td>\n",
       "    </tr>\n",
       "    <tr>\n",
       "      <th>3</th>\n",
       "      <td>4.536</td>\n",
       "      <td>130.80</td>\n",
       "      <td>2282.86</td>\n",
       "      <td>2.532</td>\n",
       "      <td>62.012</td>\n",
       "      <td>35.762</td>\n",
       "      <td>7.514944</td>\n",
       "    </tr>\n",
       "    <tr>\n",
       "      <th>4</th>\n",
       "      <td>4.536</td>\n",
       "      <td>130.80</td>\n",
       "      <td>2282.86</td>\n",
       "      <td>2.532</td>\n",
       "      <td>62.012</td>\n",
       "      <td>35.762</td>\n",
       "      <td>7.514944</td>\n",
       "    </tr>\n",
       "    <tr>\n",
       "      <th>...</th>\n",
       "      <td>...</td>\n",
       "      <td>...</td>\n",
       "      <td>...</td>\n",
       "      <td>...</td>\n",
       "      <td>...</td>\n",
       "      <td>...</td>\n",
       "      <td>...</td>\n",
       "    </tr>\n",
       "    <tr>\n",
       "      <th>277318</th>\n",
       "      <td>3.494</td>\n",
       "      <td>67.60</td>\n",
       "      <td>2290.04</td>\n",
       "      <td>2.880</td>\n",
       "      <td>120.580</td>\n",
       "      <td>41.750</td>\n",
       "      <td>7.565329</td>\n",
       "    </tr>\n",
       "    <tr>\n",
       "      <th>277319</th>\n",
       "      <td>2.898</td>\n",
       "      <td>82.60</td>\n",
       "      <td>2325.14</td>\n",
       "      <td>2.780</td>\n",
       "      <td>129.890</td>\n",
       "      <td>40.660</td>\n",
       "      <td>7.508111</td>\n",
       "    </tr>\n",
       "    <tr>\n",
       "      <th>277320</th>\n",
       "      <td>2.621</td>\n",
       "      <td>99.60</td>\n",
       "      <td>2342.30</td>\n",
       "      <td>2.770</td>\n",
       "      <td>133.730</td>\n",
       "      <td>40.110</td>\n",
       "      <td>7.487689</td>\n",
       "    </tr>\n",
       "    <tr>\n",
       "      <th>277321</th>\n",
       "      <td>2.339</td>\n",
       "      <td>115.70</td>\n",
       "      <td>2347.40</td>\n",
       "      <td>2.710</td>\n",
       "      <td>136.900</td>\n",
       "      <td>39.560</td>\n",
       "      <td>7.536210</td>\n",
       "    </tr>\n",
       "    <tr>\n",
       "      <th>277322</th>\n",
       "      <td>2.147</td>\n",
       "      <td>124.90</td>\n",
       "      <td>2331.46</td>\n",
       "      <td>2.650</td>\n",
       "      <td>138.430</td>\n",
       "      <td>38.750</td>\n",
       "      <td>7.576535</td>\n",
       "    </tr>\n",
       "  </tbody>\n",
       "</table>\n",
       "<p>277323 rows × 7 columns</p>\n",
       "</div>"
      ],
      "text/plain": [
       "        CTDTMP [ITS-90]  OXYGEN [UMOL/KG]  TCARBN [UMOL/KG]  PHSPHT [UMOL/KG]  \\\n",
       "0                 4.547            119.10           2286.68             2.824   \n",
       "1                 4.533            100.64           2290.58             2.744   \n",
       "2                 4.536            130.80           2282.86             2.532   \n",
       "3                 4.536            130.80           2282.86             2.532   \n",
       "4                 4.536            130.80           2282.86             2.532   \n",
       "...                 ...               ...               ...               ...   \n",
       "277318            3.494             67.60           2290.04             2.880   \n",
       "277319            2.898             82.60           2325.14             2.780   \n",
       "277320            2.621             99.60           2342.30             2.770   \n",
       "277321            2.339            115.70           2347.40             2.710   \n",
       "277322            2.147            124.90           2331.46             2.650   \n",
       "\n",
       "        SILCAT [UMOL/KG]  NITRAT [UMOL/KG]        PH  \n",
       "0                 70.516            37.126  7.552423  \n",
       "1                 71.046            38.908  7.518387  \n",
       "2                 62.012            35.762  7.514944  \n",
       "3                 62.012            35.762  7.514944  \n",
       "4                 62.012            35.762  7.514944  \n",
       "...                  ...               ...       ...  \n",
       "277318           120.580            41.750  7.565329  \n",
       "277319           129.890            40.660  7.508111  \n",
       "277320           133.730            40.110  7.487689  \n",
       "277321           136.900            39.560  7.536210  \n",
       "277322           138.430            38.750  7.576535  \n",
       "\n",
       "[277323 rows x 7 columns]"
      ]
     },
     "execution_count": 3,
     "metadata": {},
     "output_type": "execute_result"
    }
   ],
   "source": [
    "df"
   ]
  },
  {
   "cell_type": "code",
   "execution_count": 4,
   "id": "598bb7a6",
   "metadata": {},
   "outputs": [],
   "source": [
    "X=df.drop('PH', axis=1)\n",
    "Y=df['PH']"
   ]
  },
  {
   "cell_type": "code",
   "execution_count": 5,
   "id": "89ea8732",
   "metadata": {},
   "outputs": [],
   "source": [
    "X_train, X_test, y_train, y_test = train_test_split(X,Y, test_size=0.2, random_state=42)"
   ]
  },
  {
   "cell_type": "code",
   "execution_count": 6,
   "id": "5389efa6",
   "metadata": {},
   "outputs": [],
   "source": [
    "scaler = MinMaxScaler()"
   ]
  },
  {
   "cell_type": "code",
   "execution_count": 7,
   "id": "6f16d436",
   "metadata": {},
   "outputs": [],
   "source": [
    "X_train_scaled = scaler.fit_transform(X_train)\n",
    "X_test_scaled = scaler.transform(X_test)"
   ]
  },
  {
   "cell_type": "code",
   "execution_count": 8,
   "id": "5483c4b7",
   "metadata": {},
   "outputs": [],
   "source": [
    "model = SVR(kernel='rbf', C=1.0, epsilon=0.1)"
   ]
  },
  {
   "cell_type": "code",
   "execution_count": 9,
   "id": "33ff368c",
   "metadata": {},
   "outputs": [
    {
     "data": {
      "text/plain": [
       "SVR()"
      ]
     },
     "execution_count": 9,
     "metadata": {},
     "output_type": "execute_result"
    }
   ],
   "source": [
    "model.fit(X_train_scaled, y_train)"
   ]
  },
  {
   "cell_type": "code",
   "execution_count": 10,
   "id": "2ba9c446",
   "metadata": {},
   "outputs": [],
   "source": [
    "y_pred = model.predict(X_test_scaled)\n"
   ]
  },
  {
   "cell_type": "code",
   "execution_count": 13,
   "id": "4e464421",
   "metadata": {},
   "outputs": [
    {
     "data": {
      "text/plain": [
       "0.008255417402196197"
      ]
     },
     "execution_count": 13,
     "metadata": {},
     "output_type": "execute_result"
    }
   ],
   "source": [
    "rmse = mean_squared_error(y_test, y_pred)\n",
    "rmse"
   ]
  }
 ],
 "metadata": {
  "kernelspec": {
   "display_name": "Python 3 (ipykernel)",
   "language": "python",
   "name": "python3"
  },
  "language_info": {
   "codemirror_mode": {
    "name": "ipython",
    "version": 3
   },
   "file_extension": ".py",
   "mimetype": "text/x-python",
   "name": "python",
   "nbconvert_exporter": "python",
   "pygments_lexer": "ipython3",
   "version": "3.9.13"
  }
 },
 "nbformat": 4,
 "nbformat_minor": 5
}
